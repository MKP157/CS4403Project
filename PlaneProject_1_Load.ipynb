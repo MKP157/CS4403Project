{
 "cells": [
  {
   "cell_type": "code",
   "metadata": {
    "id": "x0iHjDryDM23",
    "ExecuteTime": {
     "end_time": "2025-04-03T00:54:43.527252Z",
     "start_time": "2025-04-03T00:54:43.142267Z"
    }
   },
   "source": [
    "import pandas as pd\n",
    "import numpy as np\n",
    "\n",
    "from pathlib import Path\n",
    "import gdown\n",
    "import os"
   ],
   "outputs": [],
   "execution_count": 1
  },
  {
   "cell_type": "markdown",
   "metadata": {
    "id": "BOWBBovTMXwo"
   },
   "source": [
    "# Data Acquisition"
   ]
  },
  {
   "cell_type": "code",
   "metadata": {
    "colab": {
     "base_uri": "https://localhost:8080/"
    },
    "id": "emfKVFuXC-TV",
    "outputId": "b6acbc86-ec83-4db5-ea66-2fad7eb9d139",
    "ExecuteTime": {
     "end_time": "2025-04-03T00:54:44.454541Z",
     "start_time": "2025-04-03T00:54:43.542078Z"
    }
   },
   "source": [
    "# List of all Aircraft Manufacturers and their ICAO codes\n",
    "URL_MFG_LIST = \"https://cfapps.icao.int/doc8643/MnfctrerList.cfm\"\n",
    "\n",
    "mfg_df = pd.read_html(URL_MFG_LIST)[0] \\\n",
    "\t.dropna()[1:] \\\n",
    "\t.reset_index() \\\n",
    "\t.drop(['index'], axis=1)\n",
    "\n",
    "print(mfg_df.head)"
   ],
   "outputs": [
    {
     "name": "stdout",
     "output_type": "stream",
     "text": [
      "<bound method NDFrame.head of          Manufacturer Code                     Manufacturer Full Name(s)\n",
      "0     328 SUPPORT SERVICES           328 Support Services GmbH (Germany)\n",
      "1                   3XTRIM      Zaklady Lotnicze 3Xtrim Sp z oo (Poland)\n",
      "2                     A-41     Cong Ty Su'A Chu'A May Bay A-41 (Vietnam)\n",
      "3                      AAC    AAC Amphibiam Airplanes of Canada (Canada)\n",
      "4                      AAK  Australian Aircraft Kits Pty Ltd (Australia)\n",
      "...                    ...                                           ...\n",
      "1521                ZENAIR                           Zenair Ltd (Canada)\n",
      "1522                ZENITH      ZÃ©nith Aircraft Company (United States)\n",
      "1523                 ZIVKO         Zivko Aeronautics Inc (United States)\n",
      "1524                  ZLIN       Moravan Aeroplanes Inc (Czech Republic)\n",
      "1525         ZLIN AVIATION            Zlin Aviation sro (Czech Republic)\n",
      "\n",
      "[1526 rows x 2 columns]>\n"
     ]
    }
   ],
   "execution_count": 2
  },
  {
   "cell_type": "code",
   "metadata": {
    "ExecuteTime": {
     "end_time": "2025-04-03T00:54:44.732452Z",
     "start_time": "2025-04-03T00:54:44.568773Z"
    }
   },
   "source": [
    "if not os.path.exists(\"./data\"):\n",
    "\tos.mkdir(\"./data\")\n",
    "\n",
    "mfg_df.to_parquet(\"./data/mfg.parquet\")"
   ],
   "outputs": [],
   "execution_count": 3
  },
  {
   "cell_type": "code",
   "metadata": {
    "colab": {
     "base_uri": "https://localhost:8080/"
    },
    "id": "0M9cHKezMovd",
    "outputId": "3c6915e7-1a1b-4307-8c9e-3d39faaeadc6",
    "ExecuteTime": {
     "end_time": "2025-04-03T00:56:49.579503Z",
     "start_time": "2025-04-03T00:54:44.753332Z"
    }
   },
   "source": [
    "# FAA Registered Aircraft Data: Master List\n",
    "URL_FAA_MASTER = {\n",
    "\t2018 : \"1_7-NAfFOoP-etAEAFGNcLvqD5XLutJ5a\",\n",
    "\t2019 : \"12XOYYGFdgK_FLnWEq0FdVSYfr5PyKANL\",\n",
    "\t2020 : \"1nT4dQOJIy8MubJz2IH2RsPTVATY4G_0r\",\n",
    "\t2021 : \"1SbT5XVLPcGzPbskBMtuAN0_OZTHz1Pg5\",\n",
    "\t2022 : \"1sJ5XZ_cmJQmC7eXnC06Ugh34rb-AF5X8\",\n",
    "}\n",
    "\n",
    "# FAA Registered Aircraft Data: Aircraft Reference\n",
    "URL_FAA_ACFREF = {\n",
    "\t2018 : \"12VjXZAYC0Qf2TouC5c5o_Tc699_cEVlc\",\n",
    "\t2019 : \"1QAnf3feFRdo81bc53Ay82YydN-aqcKBT\",\n",
    "\t2020 : \"1tvR_-6iyjpcgaW58adwJ0t_-2MmoE4ZN\",\n",
    "\t2021 : \"1N7vzpBUICcxqx7mEKzpU9cawafE82KYR\",\n",
    "\t2022 : \"1i5U0TK8_otiuEUyHsCmoau9McfL1wsIG\"\n",
    "}\n",
    "\n",
    "faa_dfs = {}\n",
    "\n",
    "if not os.path.isdir(\"./data\"):\n",
    "\tos.mkdir(\"./data\")\n",
    "\n",
    "for year in list(URL_FAA_MASTER.keys()):\n",
    "\t_file_path = f\"./data/faa_{year}.parquet\"\n",
    "\t_file = Path(_file_path)\n",
    "\n",
    "\tif _file.exists():\n",
    "\t   os.remove(_file_path) # <-- comment out!\n",
    "\n",
    "\tif not _file.exists():\n",
    "\t\tgdown.download(id=URL_FAA_MASTER[year], output=f\"./data/{year}temp.csv\")\n",
    "\t\tgdown.download(id=URL_FAA_ACFREF[year], output=f\"./data/{year}temp2.csv\")\n",
    "\n",
    "\t\t_df_master = pd.read_csv(f\"./data/{year}temp.csv\", dtype=\"str\")\n",
    "\t\t_df_acfref = pd.read_csv(f\"./data/{year}temp2.csv\", dtype=\"str\")\n",
    "\t\t\n",
    "\t\t_df = _df_master.merge(\n",
    "\t\t\t_df_acfref, \n",
    "\t\t\tleft_on='MFR MDL CODE', \n",
    "\t\t\tright_on='CODE',\n",
    "\t\t\thow='inner',\n",
    "\t\t\tsuffixes=('__MASTER__', '__ACFREF__')\n",
    "\t\t)\n",
    "\t\t\n",
    "\t\t#for c in _df.columns:\n",
    "\t\t#\tprint(c, _df[c].unique())\n",
    "\n",
    "\t\t_df = _df[['N-NUMBER', 'MFR', 'YEAR MFR', 'SPEED', 'TYPE-ACFT', 'NO-SEATS', 'NO-ENG']]\n",
    "\t\tfor field in ['YEAR MFR', 'SPEED', 'TYPE-ACFT', 'NO-SEATS', 'NO-ENG']:\n",
    "\t\t\t_df[field] = _df[field].apply(lambda x: None if str(x).strip() in ['', 'O', 'H'] else int(x))\n",
    "\n",
    "\t\t_df = _df.dropna()\n",
    "\t\t\n",
    "\t\t_df['AGE'] = int(year) - _df['YEAR MFR']\n",
    "\t\t\n",
    "\t\tprint(_df.columns)\n",
    "\n",
    "\t\t_df.to_parquet(_file_path, compression=\"gzip\", )\n",
    "\n",
    "\t\tprint(\"original:\", len(_df_master), \"| joined: \", len(_df))\n",
    "\n",
    "\t\tos.remove(f\"./data/{year}temp.csv\")\n",
    "\t\tos.remove(f\"./data/{year}temp2.csv\")\n",
    "\n",
    "\n",
    "\t#faa_dfs[year] = pd.read_parquet(_file_path)\n",
    "\t_df = pd.read_parquet(_file_path)\n",
    "\tprint(_df.head())"
   ],
   "outputs": [
    {
     "name": "stderr",
     "output_type": "stream",
     "text": [
      "Downloading...\n",
      "From (original): https://drive.google.com/uc?id=1_7-NAfFOoP-etAEAFGNcLvqD5XLutJ5a\n",
      "From (redirected): https://drive.google.com/uc?id=1_7-NAfFOoP-etAEAFGNcLvqD5XLutJ5a&confirm=t&uuid=c3a8762c-7faa-4728-9ec2-7e86dbaa504d\n",
      "To: /Users/m/Documents/GitHub/CS4403Project/data/2018temp.csv\n",
      "100%|██████████| 181M/181M [00:07<00:00, 23.2MB/s] \n",
      "Downloading...\n",
      "From: https://drive.google.com/uc?id=12VjXZAYC0Qf2TouC5c5o_Tc699_cEVlc\n",
      "To: /Users/m/Documents/GitHub/CS4403Project/data/2018temp2.csv\n",
      "100%|██████████| 7.77M/7.77M [00:00<00:00, 15.3MB/s]\n"
     ]
    },
    {
     "name": "stdout",
     "output_type": "stream",
     "text": [
      "Index(['N-NUMBER', 'MFR', 'YEAR MFR', 'SPEED', 'TYPE-ACFT', 'NO-SEATS',\n",
      "       'NO-ENG', 'AGE'],\n",
      "      dtype='object')\n",
      "original: 294221 | joined:  253798\n",
      "  N-NUMBER                             MFR  YEAR MFR  SPEED  TYPE-ACFT  \\\n",
      "0    1      GULFSTREAM AEROSPACE              1988.0      0        5.0   \n",
      "1    100    PIPER                             1940.0     67        4.0   \n",
      "2    10001  WACO                              1928.0     79        4.0   \n",
      "3    10002  TEXAS HELICOPTER CORP             1979.0      0        6.0   \n",
      "7    10006  BEECH                             1955.0      0        4.0   \n",
      "\n",
      "   NO-SEATS  NO-ENG   AGE  \n",
      "0        22       2  30.0  \n",
      "1         2       1  78.0  \n",
      "2         3       1  90.0  \n",
      "3         1       1  39.0  \n",
      "7         4       1  63.0  \n"
     ]
    },
    {
     "name": "stderr",
     "output_type": "stream",
     "text": [
      "Downloading...\n",
      "From (original): https://drive.google.com/uc?id=12XOYYGFdgK_FLnWEq0FdVSYfr5PyKANL\n",
      "From (redirected): https://drive.google.com/uc?id=12XOYYGFdgK_FLnWEq0FdVSYfr5PyKANL&confirm=t&uuid=feefb991-f292-406a-b443-f86848a617a6\n",
      "To: /Users/m/Documents/GitHub/CS4403Project/data/2019temp.csv\n",
      "100%|██████████| 178M/178M [00:10<00:00, 17.5MB/s] \n",
      "Downloading...\n",
      "From: https://drive.google.com/uc?id=1QAnf3feFRdo81bc53Ay82YydN-aqcKBT\n",
      "To: /Users/m/Documents/GitHub/CS4403Project/data/2019temp2.csv\n",
      "100%|██████████| 7.87M/7.87M [00:00<00:00, 14.8MB/s]\n"
     ]
    },
    {
     "name": "stdout",
     "output_type": "stream",
     "text": [
      "Index(['N-NUMBER', 'MFR', 'YEAR MFR', 'SPEED', 'TYPE-ACFT', 'NO-SEATS',\n",
      "       'NO-ENG', 'AGE'],\n",
      "      dtype='object')\n",
      "original: 290100 | joined:  249751\n",
      "  N-NUMBER                             MFR  YEAR MFR  SPEED  TYPE-ACFT  \\\n",
      "0    1      GULFSTREAM AEROSPACE              1988.0      0        5.0   \n",
      "1    100    PIPER                             1940.0     67        4.0   \n",
      "2    10001  WACO                              1928.0     79        4.0   \n",
      "3    10002  TEXAS HELICOPTER CORP             1979.0      0        6.0   \n",
      "6    10006  BEECH                             1955.0      0        4.0   \n",
      "\n",
      "   NO-SEATS  NO-ENG   AGE  \n",
      "0        22       2  31.0  \n",
      "1         2       1  79.0  \n",
      "2         3       1  91.0  \n",
      "3         1       1  40.0  \n",
      "6         4       1  64.0  \n"
     ]
    },
    {
     "name": "stderr",
     "output_type": "stream",
     "text": [
      "Downloading...\n",
      "From (original): https://drive.google.com/uc?id=1nT4dQOJIy8MubJz2IH2RsPTVATY4G_0r\n",
      "From (redirected): https://drive.google.com/uc?id=1nT4dQOJIy8MubJz2IH2RsPTVATY4G_0r&confirm=t&uuid=94df4ddb-6c51-40bf-811e-f693f5371d78\n",
      "To: /Users/m/Documents/GitHub/CS4403Project/data/2020temp.csv\n",
      "100%|██████████| 177M/177M [00:08<00:00, 20.6MB/s] \n",
      "Downloading...\n",
      "From: https://drive.google.com/uc?id=1tvR_-6iyjpcgaW58adwJ0t_-2MmoE4ZN\n",
      "To: /Users/m/Documents/GitHub/CS4403Project/data/2020temp2.csv\n",
      "100%|██████████| 13.9M/13.9M [00:00<00:00, 15.9MB/s]\n"
     ]
    },
    {
     "name": "stdout",
     "output_type": "stream",
     "text": [
      "Index(['N-NUMBER', 'MFR', 'YEAR MFR', 'SPEED', 'TYPE-ACFT', 'NO-SEATS',\n",
      "       'NO-ENG', 'AGE'],\n",
      "      dtype='object')\n",
      "original: 287984 | joined:  245127\n",
      "  N-NUMBER                             MFR  YEAR MFR  SPEED  TYPE-ACFT  \\\n",
      "0    100    PIPER                             1940.0     67        4.0   \n",
      "1    10001  WACO                              1928.0     79        4.0   \n",
      "2    10002  TEXAS HELICOPTER CORP             1979.0      0        6.0   \n",
      "5    10006  BEECH                             1955.0      0        4.0   \n",
      "6    10007  CESSNA                            1966.0    141        4.0   \n",
      "\n",
      "   NO-SEATS  NO-ENG   AGE  \n",
      "0         2       1  80.0  \n",
      "1         3       1  92.0  \n",
      "2         1       1  41.0  \n",
      "5         4       1  65.0  \n",
      "6         4       1  54.0  \n"
     ]
    },
    {
     "name": "stderr",
     "output_type": "stream",
     "text": [
      "Downloading...\n",
      "From (original): https://drive.google.com/uc?id=1SbT5XVLPcGzPbskBMtuAN0_OZTHz1Pg5\n",
      "From (redirected): https://drive.google.com/uc?id=1SbT5XVLPcGzPbskBMtuAN0_OZTHz1Pg5&confirm=t&uuid=aba1abd9-6d8d-4197-932a-4fd7e2fe1e12\n",
      "To: /Users/m/Documents/GitHub/CS4403Project/data/2021temp.csv\n",
      "100%|██████████| 177M/177M [00:09<00:00, 18.4MB/s] \n",
      "Downloading...\n",
      "From: https://drive.google.com/uc?id=1N7vzpBUICcxqx7mEKzpU9cawafE82KYR\n",
      "To: /Users/m/Documents/GitHub/CS4403Project/data/2021temp2.csv\n",
      "100%|██████████| 14.1M/14.1M [00:00<00:00, 15.8MB/s]\n"
     ]
    },
    {
     "name": "stdout",
     "output_type": "stream",
     "text": [
      "Index(['N-NUMBER', 'MFR', 'YEAR MFR', 'SPEED', 'TYPE-ACFT', 'NO-SEATS',\n",
      "       'NO-ENG', 'AGE'],\n",
      "      dtype='object')\n",
      "original: 287769 | joined:  241916\n",
      "  N-NUMBER                             MFR  YEAR MFR  SPEED  TYPE-ACFT  \\\n",
      "0    1      CESSNA                            2014.0      0        5.0   \n",
      "1    100    PIPER                             1940.0     67        4.0   \n",
      "2    10001  WACO                              1928.0     79        4.0   \n",
      "4    10006  BEECH                             1955.0      0        4.0   \n",
      "5    10007  CESSNA                            1966.0    141        4.0   \n",
      "\n",
      "   NO-SEATS  NO-ENG   AGE  \n",
      "0         9       2   7.0  \n",
      "1         2       1  81.0  \n",
      "2         3       1  93.0  \n",
      "4         4       1  66.0  \n",
      "5         4       1  55.0  \n"
     ]
    },
    {
     "name": "stderr",
     "output_type": "stream",
     "text": [
      "Downloading...\n",
      "From (original): https://drive.google.com/uc?id=1sJ5XZ_cmJQmC7eXnC06Ugh34rb-AF5X8\n",
      "From (redirected): https://drive.google.com/uc?id=1sJ5XZ_cmJQmC7eXnC06Ugh34rb-AF5X8&confirm=t&uuid=32cb068b-8118-4b66-b5ba-a3613ca6a380\n",
      "To: /Users/m/Documents/GitHub/CS4403Project/data/2022temp.csv\n",
      "100%|██████████| 177M/177M [00:09<00:00, 18.2MB/s] \n",
      "Downloading...\n",
      "From: https://drive.google.com/uc?id=1i5U0TK8_otiuEUyHsCmoau9McfL1wsIG\n",
      "To: /Users/m/Documents/GitHub/CS4403Project/data/2022temp2.csv\n",
      "100%|██████████| 14.3M/14.3M [00:00<00:00, 18.2MB/s]\n"
     ]
    },
    {
     "name": "stdout",
     "output_type": "stream",
     "text": [
      "Index(['N-NUMBER', 'MFR', 'YEAR MFR', 'SPEED', 'TYPE-ACFT', 'NO-SEATS',\n",
      "       'NO-ENG', 'AGE'],\n",
      "      dtype='object')\n",
      "original: 288389 | joined:  239925\n",
      "  N-NUMBER                             MFR  YEAR MFR  SPEED  TYPE-ACFT  \\\n",
      "0    1      CESSNA                            2014.0      0        5.0   \n",
      "1    100    PIPER                             1940.0     67        4.0   \n",
      "2    10001  WACO                              1928.0     79        4.0   \n",
      "4    10006  BEECH                             1955.0      0        4.0   \n",
      "5    10007  CESSNA                            1966.0    141        4.0   \n",
      "\n",
      "   NO-SEATS  NO-ENG   AGE  \n",
      "0         9       2   8.0  \n",
      "1         2       1  82.0  \n",
      "2         3       1  94.0  \n",
      "4         4       1  67.0  \n",
      "5         4       1  56.0  \n"
     ]
    }
   ],
   "execution_count": 4
  },
  {
   "cell_type": "code",
   "metadata": {
    "ExecuteTime": {
     "end_time": "2025-04-03T00:56:49.606282Z",
     "start_time": "2025-04-03T00:56:49.603193Z"
    }
   },
   "source": [
    "# Flight Delay Data\n",
    "URL_DELAY = {\n",
    "\t2018 : \"1XWnRQYvx8W2TPgM9ue_exLo2st8YWVHj\",\n",
    "\t2019 : \"1YJgaB_sONi6nWCBReyEqdOlbq_ojyjWc\",\n",
    "\t2020 : \"1TCL4hetIDjCjQxqvoEOvGjg7j4D63dtb\",\n",
    "\t2021 : \"1etYb4mCyM_D-6ITemSaRuz--GDOgtQJf\",\n",
    "\t2022 : \"1nL4-hrcRLm8mEACuyX1Q8_0H3N04E9Kh\",\n",
    "}\n",
    "\n",
    "\n",
    "delay_dfs = {}\n",
    "\n",
    "for year in list(URL_DELAY.keys()):\n",
    "\t_file_path = f\"./data/delay_{year}.parquet\"\n",
    "\t_file = Path(_file_path)\n",
    "\n",
    "\tif not _file.exists():\n",
    "\t\tgdown.download(\n",
    "\t\t\tid=URL_DELAY[year],\n",
    "\t\t\toutput=_file_path\n",
    "\t\t)\n",
    "\n",
    "\t#_df = pd.read_parquet(_file_path)\n",
    "\t#print(_df.head())"
   ],
   "outputs": [],
   "execution_count": 5
  },
  {
   "cell_type": "code",
   "metadata": {
    "ExecuteTime": {
     "end_time": "2025-04-03T00:56:58.071645Z",
     "start_time": "2025-04-03T00:56:49.639862Z"
    }
   },
   "source": [
    "delay_2018_df = pd.read_parquet(\"./data/delay_2018.parquet\").dropna()\n",
    "delay_2018_df[['Cancelled', 'Diverted']].describe()"
   ],
   "outputs": [
    {
     "data": {
      "text/plain": [
       "       Cancelled Diverted\n",
       "count    5578618  5578618\n",
       "unique         1        1\n",
       "top        False    False\n",
       "freq     5578618  5578618"
      ],
      "text/html": [
       "<div>\n",
       "<style scoped>\n",
       "    .dataframe tbody tr th:only-of-type {\n",
       "        vertical-align: middle;\n",
       "    }\n",
       "\n",
       "    .dataframe tbody tr th {\n",
       "        vertical-align: top;\n",
       "    }\n",
       "\n",
       "    .dataframe thead th {\n",
       "        text-align: right;\n",
       "    }\n",
       "</style>\n",
       "<table border=\"1\" class=\"dataframe\">\n",
       "  <thead>\n",
       "    <tr style=\"text-align: right;\">\n",
       "      <th></th>\n",
       "      <th>Cancelled</th>\n",
       "      <th>Diverted</th>\n",
       "    </tr>\n",
       "  </thead>\n",
       "  <tbody>\n",
       "    <tr>\n",
       "      <th>count</th>\n",
       "      <td>5578618</td>\n",
       "      <td>5578618</td>\n",
       "    </tr>\n",
       "    <tr>\n",
       "      <th>unique</th>\n",
       "      <td>1</td>\n",
       "      <td>1</td>\n",
       "    </tr>\n",
       "    <tr>\n",
       "      <th>top</th>\n",
       "      <td>False</td>\n",
       "      <td>False</td>\n",
       "    </tr>\n",
       "    <tr>\n",
       "      <th>freq</th>\n",
       "      <td>5578618</td>\n",
       "      <td>5578618</td>\n",
       "    </tr>\n",
       "  </tbody>\n",
       "</table>\n",
       "</div>"
      ]
     },
     "execution_count": 6,
     "metadata": {},
     "output_type": "execute_result"
    }
   ],
   "execution_count": 6
  },
  {
   "metadata": {
    "ExecuteTime": {
     "end_time": "2025-04-03T00:56:58.169963Z",
     "start_time": "2025-04-03T00:56:58.150053Z"
    }
   },
   "cell_type": "code",
   "source": "delay_2018_df['Diverted'].unique()",
   "outputs": [
    {
     "data": {
      "text/plain": [
       "array([False])"
      ]
     },
     "execution_count": 7,
     "metadata": {},
     "output_type": "execute_result"
    }
   ],
   "execution_count": 7
  },
  {
   "cell_type": "code",
   "metadata": {
    "ExecuteTime": {
     "end_time": "2025-04-03T00:56:58.221401Z",
     "start_time": "2025-04-03T00:56:58.217084Z"
    }
   },
   "source": [
    "delay_2018_df.columns"
   ],
   "outputs": [
    {
     "data": {
      "text/plain": [
       "Index(['FlightDate', 'Airline', 'Origin', 'Dest', 'Cancelled', 'Diverted',\n",
       "       'CRSDepTime', 'DepTime', 'DepDelayMinutes', 'DepDelay', 'ArrTime',\n",
       "       'ArrDelayMinutes', 'AirTime', 'CRSElapsedTime', 'ActualElapsedTime',\n",
       "       'Distance', 'Year', 'Quarter', 'Month', 'DayofMonth', 'DayOfWeek',\n",
       "       'Marketing_Airline_Network', 'Operated_or_Branded_Code_Share_Partners',\n",
       "       'DOT_ID_Marketing_Airline', 'IATA_Code_Marketing_Airline',\n",
       "       'Flight_Number_Marketing_Airline', 'Operating_Airline',\n",
       "       'DOT_ID_Operating_Airline', 'IATA_Code_Operating_Airline',\n",
       "       'Tail_Number', 'Flight_Number_Operating_Airline', 'OriginAirportID',\n",
       "       'OriginAirportSeqID', 'OriginCityMarketID', 'OriginCityName',\n",
       "       'OriginState', 'OriginStateFips', 'OriginStateName', 'OriginWac',\n",
       "       'DestAirportID', 'DestAirportSeqID', 'DestCityMarketID', 'DestCityName',\n",
       "       'DestState', 'DestStateFips', 'DestStateName', 'DestWac', 'DepDel15',\n",
       "       'DepartureDelayGroups', 'DepTimeBlk', 'TaxiOut', 'WheelsOff',\n",
       "       'WheelsOn', 'TaxiIn', 'CRSArrTime', 'ArrDelay', 'ArrDel15',\n",
       "       'ArrivalDelayGroups', 'ArrTimeBlk', 'DistanceGroup',\n",
       "       'DivAirportLandings'],\n",
       "      dtype='object')"
      ]
     },
     "execution_count": 8,
     "metadata": {},
     "output_type": "execute_result"
    }
   ],
   "execution_count": 8
  },
  {
   "cell_type": "code",
   "metadata": {
    "ExecuteTime": {
     "end_time": "2025-04-03T00:56:58.299282Z",
     "start_time": "2025-04-03T00:56:58.293558Z"
    }
   },
   "source": [
    "print(\"Dataframe size (MB):\", end=\" \")\n",
    "print(delay_2018_df.memory_usage(index=1).sum() // 1000000)"
   ],
   "outputs": [
    {
     "name": "stdout",
     "output_type": "stream",
     "text": [
      "Dataframe size (MB): 2688\n"
     ]
    }
   ],
   "execution_count": 9
  },
  {
   "cell_type": "code",
   "metadata": {
    "ExecuteTime": {
     "end_time": "2025-04-03T00:56:58.778481Z",
     "start_time": "2025-04-03T00:56:58.394296Z"
    }
   },
   "source": [
    "delay_2018_df = delay_2018_df[['Cancelled', 'Diverted', 'DepDelayMinutes', 'ArrDelayMinutes',  'Tail_Number', 'OriginAirportID', 'DestAirportID']]\n",
    "delay_2018_df.columns"
   ],
   "outputs": [
    {
     "data": {
      "text/plain": [
       "Index(['Cancelled', 'Diverted', 'DepDelayMinutes', 'ArrDelayMinutes',\n",
       "       'Tail_Number', 'OriginAirportID', 'DestAirportID'],\n",
       "      dtype='object')"
      ]
     },
     "execution_count": 10,
     "metadata": {},
     "output_type": "execute_result"
    }
   ],
   "execution_count": 10
  },
  {
   "cell_type": "code",
   "metadata": {
    "ExecuteTime": {
     "end_time": "2025-04-03T00:56:58.794320Z",
     "start_time": "2025-04-03T00:56:58.790834Z"
    }
   },
   "source": [
    "print(\"Dataframe size (MB):\", end=\" \")\n",
    "print(delay_2018_df.memory_usage(index=1).sum() // 1000000)"
   ],
   "outputs": [
    {
     "name": "stdout",
     "output_type": "stream",
     "text": [
      "Dataframe size (MB): 278\n"
     ]
    }
   ],
   "execution_count": 11
  },
  {
   "cell_type": "code",
   "metadata": {
    "ExecuteTime": {
     "end_time": "2025-04-03T00:56:58.896213Z",
     "start_time": "2025-04-03T00:56:58.815318Z"
    }
   },
   "source": [
    "faa_2018_df = pd.read_parquet('./data/faa_2018.parquet')\n",
    "\n",
    "print(\"Dataframe size (MB): \", faa_2018_df.memory_usage(index=1).sum() // 1000000)\n",
    "\n",
    "pd.options.display.max_columns = 1000\n",
    "faa_2018_df.head()"
   ],
   "outputs": [
    {
     "name": "stdout",
     "output_type": "stream",
     "text": [
      "Dataframe size (MB):  18\n"
     ]
    },
    {
     "data": {
      "text/plain": [
       "  N-NUMBER                             MFR  YEAR MFR  SPEED  TYPE-ACFT  \\\n",
       "0    1      GULFSTREAM AEROSPACE              1988.0      0        5.0   \n",
       "1    100    PIPER                             1940.0     67        4.0   \n",
       "2    10001  WACO                              1928.0     79        4.0   \n",
       "3    10002  TEXAS HELICOPTER CORP             1979.0      0        6.0   \n",
       "7    10006  BEECH                             1955.0      0        4.0   \n",
       "\n",
       "   NO-SEATS  NO-ENG   AGE  \n",
       "0        22       2  30.0  \n",
       "1         2       1  78.0  \n",
       "2         3       1  90.0  \n",
       "3         1       1  39.0  \n",
       "7         4       1  63.0  "
      ],
      "text/html": [
       "<div>\n",
       "<style scoped>\n",
       "    .dataframe tbody tr th:only-of-type {\n",
       "        vertical-align: middle;\n",
       "    }\n",
       "\n",
       "    .dataframe tbody tr th {\n",
       "        vertical-align: top;\n",
       "    }\n",
       "\n",
       "    .dataframe thead th {\n",
       "        text-align: right;\n",
       "    }\n",
       "</style>\n",
       "<table border=\"1\" class=\"dataframe\">\n",
       "  <thead>\n",
       "    <tr style=\"text-align: right;\">\n",
       "      <th></th>\n",
       "      <th>N-NUMBER</th>\n",
       "      <th>MFR</th>\n",
       "      <th>YEAR MFR</th>\n",
       "      <th>SPEED</th>\n",
       "      <th>TYPE-ACFT</th>\n",
       "      <th>NO-SEATS</th>\n",
       "      <th>NO-ENG</th>\n",
       "      <th>AGE</th>\n",
       "    </tr>\n",
       "  </thead>\n",
       "  <tbody>\n",
       "    <tr>\n",
       "      <th>0</th>\n",
       "      <td>1</td>\n",
       "      <td>GULFSTREAM AEROSPACE</td>\n",
       "      <td>1988.0</td>\n",
       "      <td>0</td>\n",
       "      <td>5.0</td>\n",
       "      <td>22</td>\n",
       "      <td>2</td>\n",
       "      <td>30.0</td>\n",
       "    </tr>\n",
       "    <tr>\n",
       "      <th>1</th>\n",
       "      <td>100</td>\n",
       "      <td>PIPER</td>\n",
       "      <td>1940.0</td>\n",
       "      <td>67</td>\n",
       "      <td>4.0</td>\n",
       "      <td>2</td>\n",
       "      <td>1</td>\n",
       "      <td>78.0</td>\n",
       "    </tr>\n",
       "    <tr>\n",
       "      <th>2</th>\n",
       "      <td>10001</td>\n",
       "      <td>WACO</td>\n",
       "      <td>1928.0</td>\n",
       "      <td>79</td>\n",
       "      <td>4.0</td>\n",
       "      <td>3</td>\n",
       "      <td>1</td>\n",
       "      <td>90.0</td>\n",
       "    </tr>\n",
       "    <tr>\n",
       "      <th>3</th>\n",
       "      <td>10002</td>\n",
       "      <td>TEXAS HELICOPTER CORP</td>\n",
       "      <td>1979.0</td>\n",
       "      <td>0</td>\n",
       "      <td>6.0</td>\n",
       "      <td>1</td>\n",
       "      <td>1</td>\n",
       "      <td>39.0</td>\n",
       "    </tr>\n",
       "    <tr>\n",
       "      <th>7</th>\n",
       "      <td>10006</td>\n",
       "      <td>BEECH</td>\n",
       "      <td>1955.0</td>\n",
       "      <td>0</td>\n",
       "      <td>4.0</td>\n",
       "      <td>4</td>\n",
       "      <td>1</td>\n",
       "      <td>63.0</td>\n",
       "    </tr>\n",
       "  </tbody>\n",
       "</table>\n",
       "</div>"
      ]
     },
     "execution_count": 12,
     "metadata": {},
     "output_type": "execute_result"
    }
   ],
   "execution_count": 12
  },
  {
   "metadata": {
    "ExecuteTime": {
     "end_time": "2025-04-03T00:58:41.851143Z",
     "start_time": "2025-04-03T00:58:41.844723Z"
    }
   },
   "cell_type": "code",
   "source": [
    "import airportsdata\n",
    "\n",
    "delay_2018_df.head()\n"
   ],
   "outputs": [
    {
     "data": {
      "text/plain": [
       "   Cancelled  Diverted  DepDelayMinutes  ArrDelayMinutes Tail_Number  \\\n",
       "0      False     False              0.0              0.0      N8928A   \n",
       "1      False     False              0.0              0.0      N800AY   \n",
       "2      False     False              0.0              0.0      N8836A   \n",
       "3      False     False              0.0              0.0      N800AY   \n",
       "4      False     False              0.0              0.0      N8839E   \n",
       "\n",
       "   OriginAirportID  DestAirportID  \n",
       "0            10146          10397  \n",
       "1            10146          10397  \n",
       "2            10146          10397  \n",
       "3            10146          10397  \n",
       "4            10146          10397  "
      ],
      "text/html": [
       "<div>\n",
       "<style scoped>\n",
       "    .dataframe tbody tr th:only-of-type {\n",
       "        vertical-align: middle;\n",
       "    }\n",
       "\n",
       "    .dataframe tbody tr th {\n",
       "        vertical-align: top;\n",
       "    }\n",
       "\n",
       "    .dataframe thead th {\n",
       "        text-align: right;\n",
       "    }\n",
       "</style>\n",
       "<table border=\"1\" class=\"dataframe\">\n",
       "  <thead>\n",
       "    <tr style=\"text-align: right;\">\n",
       "      <th></th>\n",
       "      <th>Cancelled</th>\n",
       "      <th>Diverted</th>\n",
       "      <th>DepDelayMinutes</th>\n",
       "      <th>ArrDelayMinutes</th>\n",
       "      <th>Tail_Number</th>\n",
       "      <th>OriginAirportID</th>\n",
       "      <th>DestAirportID</th>\n",
       "    </tr>\n",
       "  </thead>\n",
       "  <tbody>\n",
       "    <tr>\n",
       "      <th>0</th>\n",
       "      <td>False</td>\n",
       "      <td>False</td>\n",
       "      <td>0.0</td>\n",
       "      <td>0.0</td>\n",
       "      <td>N8928A</td>\n",
       "      <td>10146</td>\n",
       "      <td>10397</td>\n",
       "    </tr>\n",
       "    <tr>\n",
       "      <th>1</th>\n",
       "      <td>False</td>\n",
       "      <td>False</td>\n",
       "      <td>0.0</td>\n",
       "      <td>0.0</td>\n",
       "      <td>N800AY</td>\n",
       "      <td>10146</td>\n",
       "      <td>10397</td>\n",
       "    </tr>\n",
       "    <tr>\n",
       "      <th>2</th>\n",
       "      <td>False</td>\n",
       "      <td>False</td>\n",
       "      <td>0.0</td>\n",
       "      <td>0.0</td>\n",
       "      <td>N8836A</td>\n",
       "      <td>10146</td>\n",
       "      <td>10397</td>\n",
       "    </tr>\n",
       "    <tr>\n",
       "      <th>3</th>\n",
       "      <td>False</td>\n",
       "      <td>False</td>\n",
       "      <td>0.0</td>\n",
       "      <td>0.0</td>\n",
       "      <td>N800AY</td>\n",
       "      <td>10146</td>\n",
       "      <td>10397</td>\n",
       "    </tr>\n",
       "    <tr>\n",
       "      <th>4</th>\n",
       "      <td>False</td>\n",
       "      <td>False</td>\n",
       "      <td>0.0</td>\n",
       "      <td>0.0</td>\n",
       "      <td>N8839E</td>\n",
       "      <td>10146</td>\n",
       "      <td>10397</td>\n",
       "    </tr>\n",
       "  </tbody>\n",
       "</table>\n",
       "</div>"
      ]
     },
     "execution_count": 14,
     "metadata": {},
     "output_type": "execute_result"
    }
   ],
   "execution_count": 14
  }
 ],
 "metadata": {
  "colab": {
   "provenance": []
  },
  "kernelspec": {
   "display_name": "Python 3 (ipykernel)",
   "language": "python",
   "name": "python3"
  },
  "language_info": {
   "codemirror_mode": {
    "name": "ipython",
    "version": 3
   },
   "file_extension": ".py",
   "mimetype": "text/x-python",
   "name": "python",
   "nbconvert_exporter": "python",
   "pygments_lexer": "ipython3",
   "version": "3.12.3"
  }
 },
 "nbformat": 4,
 "nbformat_minor": 1
}
