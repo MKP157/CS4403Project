{
 "cells": [
  {
   "cell_type": "code",
   "metadata": {
    "ExecuteTime": {
     "end_time": "2025-03-28T17:47:27.478411Z",
     "start_time": "2025-03-28T17:47:27.038601Z"
    }
   },
   "source": [
    "import pandas as pd\n",
    "import re"
   ],
   "outputs": [],
   "execution_count": 1
  },
  {
   "cell_type": "code",
   "metadata": {
    "ExecuteTime": {
     "end_time": "2025-03-28T17:47:27.485093Z",
     "start_time": "2025-03-28T17:47:27.482483Z"
    }
   },
   "source": [
    "trim_tail_number = lambda s : None if not s else re.sub(\"^[A-Z]\", \"\", s)"
   ],
   "outputs": [],
   "execution_count": 2
  },
  {
   "cell_type": "code",
   "metadata": {
    "ExecuteTime": {
     "end_time": "2025-03-28T17:48:15.926845Z",
     "start_time": "2025-03-28T17:47:27.606240Z"
    }
   },
   "source": [
    "\n",
    "years = list(range(2018, 2023))\n",
    "for year in years:\n",
    "    _faa_df = pd.read_parquet(f\"./data/faa_{year}.parquet\")\n",
    "\n",
    "    _delay_df = pd.read_parquet(f\"./data/delay_{year}.parquet\")\n",
    "\n",
    "    # Remove preceeding identificaton letters from tail \n",
    "    # numbers, since the FAA doesn't include them\n",
    "    _delay_df[\"Tail_Number\"] = _delay_df[\"Tail_Number\"].apply(trim_tail_number)\n",
    "\n",
    "    # Trim excess from delay dataframe\n",
    "    _delay_df = _delay_df[[\n",
    "        'Cancelled', \n",
    "        'Diverted', \n",
    "        'DepDelayMinutes', \n",
    "        'ArrDelayMinutes',\n",
    "\t\t'Tail_Number',\n",
    "        ]]\n",
    "\n",
    "    # Join with FAA\n",
    "    _clean_df = _delay_df.merge(\n",
    "        _faa_df,\n",
    "        left_on='Tail_Number',\n",
    "        right_on='N-NUMBER',\n",
    "        how='inner',\n",
    "        suffixes=('__DELAY__', '__FAA__')\n",
    "    )\n",
    "\n",
    "    print(f\"original: {len(_delay_df)} rows | joined: {len(_clean_df)} rows\")\n",
    "    _clean_df.to_parquet(f\"./data/clean_joined_{year}.parquet\")"
   ],
   "outputs": [
    {
     "name": "stdout",
     "output_type": "stream",
     "text": [
      "original: 5689512 rows | joined: 5502497 rows\n",
      "original: 8091684 rows | joined: 7803194 rows\n",
      "original: 5022397 rows | joined: 4695086 rows\n",
      "original: 6311871 rows | joined: 6021567 rows\n",
      "original: 4078318 rows | joined: 3913835 rows\n"
     ]
    }
   ],
   "execution_count": 3
  },
  {
   "cell_type": "markdown",
   "metadata": {},
   "source": [
    "~~Yikes. That's one hell of a reduction.~~ Fixed!"
   ]
  },
  {
   "cell_type": "code",
   "metadata": {
    "ExecuteTime": {
     "end_time": "2025-03-28T17:48:17.469605Z",
     "start_time": "2025-03-28T17:48:15.946627Z"
    }
   },
   "source": [
    "clean_2018_df = pd.read_parquet(\"./data/clean_joined_2018.parquet\")\n",
    "clean_2018_df.describe()"
   ],
   "outputs": [
    {
     "data": {
      "text/plain": [
       "       DepDelayMinutes  ArrDelayMinutes      YEAR MFR         SPEED  \\\n",
       "count     5.438374e+06     5.422618e+06  5.502497e+06  5.502497e+06   \n",
       "mean      1.344554e+01     1.366774e+01  2.006321e+03  4.365800e-02   \n",
       "std       4.418298e+01     4.400786e+01  1.626092e+01  2.110273e+00   \n",
       "min       0.000000e+00     0.000000e+00  0.000000e+00  0.000000e+00   \n",
       "25%       0.000000e+00     0.000000e+00  2.002000e+03  0.000000e+00   \n",
       "50%       0.000000e+00     0.000000e+00  2.005000e+03  0.000000e+00   \n",
       "75%       7.000000e+00     8.000000e+00  2.013000e+03  0.000000e+00   \n",
       "max       2.625000e+03     2.635000e+03  2.018000e+03  1.260000e+02   \n",
       "\n",
       "          TYPE-ACFT      NO-SEATS        NO-ENG           AGE  \n",
       "count  5.502497e+06  5.502497e+06  5.502497e+06  5.502497e+06  \n",
       "mean   4.997466e+00  1.367629e+02  1.996581e+00  1.167943e+01  \n",
       "std    5.991162e-02  6.988713e+01  6.132817e-02  1.626092e+01  \n",
       "min    4.000000e+00  1.000000e+00  1.000000e+00  0.000000e+00  \n",
       "25%    5.000000e+00  8.800000e+01  2.000000e+00  5.000000e+00  \n",
       "50%    5.000000e+00  1.400000e+02  2.000000e+00  1.300000e+01  \n",
       "75%    5.000000e+00  1.790000e+02  2.000000e+00  1.600000e+01  \n",
       "max    6.000000e+00  5.630000e+02  3.000000e+00  2.018000e+03  "
      ],
      "text/html": [
       "<div>\n",
       "<style scoped>\n",
       "    .dataframe tbody tr th:only-of-type {\n",
       "        vertical-align: middle;\n",
       "    }\n",
       "\n",
       "    .dataframe tbody tr th {\n",
       "        vertical-align: top;\n",
       "    }\n",
       "\n",
       "    .dataframe thead th {\n",
       "        text-align: right;\n",
       "    }\n",
       "</style>\n",
       "<table border=\"1\" class=\"dataframe\">\n",
       "  <thead>\n",
       "    <tr style=\"text-align: right;\">\n",
       "      <th></th>\n",
       "      <th>DepDelayMinutes</th>\n",
       "      <th>ArrDelayMinutes</th>\n",
       "      <th>YEAR MFR</th>\n",
       "      <th>SPEED</th>\n",
       "      <th>TYPE-ACFT</th>\n",
       "      <th>NO-SEATS</th>\n",
       "      <th>NO-ENG</th>\n",
       "      <th>AGE</th>\n",
       "    </tr>\n",
       "  </thead>\n",
       "  <tbody>\n",
       "    <tr>\n",
       "      <th>count</th>\n",
       "      <td>5.438374e+06</td>\n",
       "      <td>5.422618e+06</td>\n",
       "      <td>5.502497e+06</td>\n",
       "      <td>5.502497e+06</td>\n",
       "      <td>5.502497e+06</td>\n",
       "      <td>5.502497e+06</td>\n",
       "      <td>5.502497e+06</td>\n",
       "      <td>5.502497e+06</td>\n",
       "    </tr>\n",
       "    <tr>\n",
       "      <th>mean</th>\n",
       "      <td>1.344554e+01</td>\n",
       "      <td>1.366774e+01</td>\n",
       "      <td>2.006321e+03</td>\n",
       "      <td>4.365800e-02</td>\n",
       "      <td>4.997466e+00</td>\n",
       "      <td>1.367629e+02</td>\n",
       "      <td>1.996581e+00</td>\n",
       "      <td>1.167943e+01</td>\n",
       "    </tr>\n",
       "    <tr>\n",
       "      <th>std</th>\n",
       "      <td>4.418298e+01</td>\n",
       "      <td>4.400786e+01</td>\n",
       "      <td>1.626092e+01</td>\n",
       "      <td>2.110273e+00</td>\n",
       "      <td>5.991162e-02</td>\n",
       "      <td>6.988713e+01</td>\n",
       "      <td>6.132817e-02</td>\n",
       "      <td>1.626092e+01</td>\n",
       "    </tr>\n",
       "    <tr>\n",
       "      <th>min</th>\n",
       "      <td>0.000000e+00</td>\n",
       "      <td>0.000000e+00</td>\n",
       "      <td>0.000000e+00</td>\n",
       "      <td>0.000000e+00</td>\n",
       "      <td>4.000000e+00</td>\n",
       "      <td>1.000000e+00</td>\n",
       "      <td>1.000000e+00</td>\n",
       "      <td>0.000000e+00</td>\n",
       "    </tr>\n",
       "    <tr>\n",
       "      <th>25%</th>\n",
       "      <td>0.000000e+00</td>\n",
       "      <td>0.000000e+00</td>\n",
       "      <td>2.002000e+03</td>\n",
       "      <td>0.000000e+00</td>\n",
       "      <td>5.000000e+00</td>\n",
       "      <td>8.800000e+01</td>\n",
       "      <td>2.000000e+00</td>\n",
       "      <td>5.000000e+00</td>\n",
       "    </tr>\n",
       "    <tr>\n",
       "      <th>50%</th>\n",
       "      <td>0.000000e+00</td>\n",
       "      <td>0.000000e+00</td>\n",
       "      <td>2.005000e+03</td>\n",
       "      <td>0.000000e+00</td>\n",
       "      <td>5.000000e+00</td>\n",
       "      <td>1.400000e+02</td>\n",
       "      <td>2.000000e+00</td>\n",
       "      <td>1.300000e+01</td>\n",
       "    </tr>\n",
       "    <tr>\n",
       "      <th>75%</th>\n",
       "      <td>7.000000e+00</td>\n",
       "      <td>8.000000e+00</td>\n",
       "      <td>2.013000e+03</td>\n",
       "      <td>0.000000e+00</td>\n",
       "      <td>5.000000e+00</td>\n",
       "      <td>1.790000e+02</td>\n",
       "      <td>2.000000e+00</td>\n",
       "      <td>1.600000e+01</td>\n",
       "    </tr>\n",
       "    <tr>\n",
       "      <th>max</th>\n",
       "      <td>2.625000e+03</td>\n",
       "      <td>2.635000e+03</td>\n",
       "      <td>2.018000e+03</td>\n",
       "      <td>1.260000e+02</td>\n",
       "      <td>6.000000e+00</td>\n",
       "      <td>5.630000e+02</td>\n",
       "      <td>3.000000e+00</td>\n",
       "      <td>2.018000e+03</td>\n",
       "    </tr>\n",
       "  </tbody>\n",
       "</table>\n",
       "</div>"
      ]
     },
     "execution_count": 4,
     "metadata": {},
     "output_type": "execute_result"
    }
   ],
   "execution_count": 4
  },
  {
   "cell_type": "code",
   "metadata": {
    "ExecuteTime": {
     "end_time": "2025-03-28T17:48:17.849391Z",
     "start_time": "2025-03-28T17:48:17.516331Z"
    }
   },
   "source": [
    "manufacturers = clean_2018_df['MFR'].unique()\n",
    "manufacturers.sort()\n",
    "manufacturers"
   ],
   "outputs": [
    {
     "data": {
      "text/plain": [
       "array(['AIR TRACTOR INC               ', 'AIRBUS                        ',\n",
       "       'AIRBUS INDUSTRIE              ', 'AMERICAN CHAMPION AIRCRAFT    ',\n",
       "       'AVEKO SRO                     ', 'BARD JOHN A                   ',\n",
       "       'BENHAM JOHN                   ', 'BETTS JOHN P                  ',\n",
       "       'BIGHAM JACK L                 ', 'BOEING                        ',\n",
       "       'BOMBARDIER INC                ', 'CANADAIR                      ',\n",
       "       'CESSNA                        ', 'CHRISTOPHER LORD              ',\n",
       "       'CIRRUS DESIGN CORP            ', 'DASSAULT                      ',\n",
       "       'DIAMOND AIRCRAFT IND GMBH     ', 'DIAMOND AIRCRAFT IND INC      ',\n",
       "       'DOUGLAS                       ', 'EADS/ALENIA ATR               ',\n",
       "       'EMBRAER                       ', 'EMBRAER S A                   ',\n",
       "       'EMBRAER-EMPRESA BRASILEIRA DE ', 'GLEASON BRENT L               ',\n",
       "       'GULFSTREAM AEROSPACE          ', 'GULFSTREAM AMERICAN CORP.     ',\n",
       "       'MCDONNELL DOUGLAS             ', 'MCDONNELL DOUGLAS AIRCRAFT CO ',\n",
       "       'MCDONNELL DOUGLAS CORPORATION ', 'MOONEY                        ',\n",
       "       'PILATUS AIRCRAFT LTD          ', 'PIPER                         ',\n",
       "       'QUEST AIRCRAFT COMPANY LLC    ', 'ROBINSON HELICOPTER CO        ',\n",
       "       'SAAB                          ', 'SAAB AIRCRAFT AB              ',\n",
       "       'SAAB-SCANIA                   ', 'SOCATA                        ',\n",
       "       'TREMBLE JASON M               '], dtype=object)"
      ]
     },
     "execution_count": 5,
     "metadata": {},
     "output_type": "execute_result"
    }
   ],
   "execution_count": 5
  }
 ],
 "metadata": {
  "kernelspec": {
   "display_name": "Python 3 (ipykernel)",
   "language": "python",
   "name": "python3"
  },
  "language_info": {
   "codemirror_mode": {
    "name": "ipython",
    "version": 3
   },
   "file_extension": ".py",
   "mimetype": "text/x-python",
   "name": "python",
   "nbconvert_exporter": "python",
   "pygments_lexer": "ipython3",
   "version": "3.12.3"
  }
 },
 "nbformat": 4,
 "nbformat_minor": 2
}
